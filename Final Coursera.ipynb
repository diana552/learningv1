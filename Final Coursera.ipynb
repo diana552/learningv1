{
 "cells": [
  {
   "cell_type": "markdown",
   "id": "54ced1d1-cc7e-424f-9638-623ee5bfaaab",
   "metadata": {},
   "source": [
    "# My Jupyter Notebook on IBM Watson Studio"
   ]
  },
  {
   "cell_type": "markdown",
   "id": "b4292e5a-dd22-4a14-8fbf-86f04c6b6ec4",
   "metadata": {},
   "source": [
    "**Diana Ramos**\n",
    "\n",
    "Data analyst"
   ]
  },
  {
   "cell_type": "markdown",
   "id": "0461f923-f4c5-471f-937f-ba999ac28e7e",
   "metadata": {},
   "source": [
    "*I am interested in data science because  i like it*\n"
   ]
  },
  {
   "cell_type": "markdown",
   "id": "aaac07bd-c7d8-4598-9a79-115565fb643c",
   "metadata": {
    "tags": []
   },
   "source": [
    "### Sum two numbers"
   ]
  },
  {
   "cell_type": "code",
   "execution_count": 3,
   "id": "ef5bb9de-8e9b-4210-8976-071e76d395c5",
   "metadata": {},
   "outputs": [
    {
     "data": {
      "text/plain": [
       "2"
      ]
     },
     "execution_count": 3,
     "metadata": {},
     "output_type": "execute_result"
    }
   ],
   "source": [
    "1+1"
   ]
  },
  {
   "cell_type": "markdown",
   "id": "1bf66942-4f93-4f4f-ab52-6726160563bd",
   "metadata": {},
   "source": [
    "***\n",
    "Horizontal rules\n",
    "***\n",
    "\n",
    "* Bullet list \n",
    "* Bullet list\n",
    "* Bullet list\n",
    "\n",
    "1. Numbered list\n",
    "2. Numbered list\n",
    "3. Numbered list\n",
    "\n",
    "´Highlighting´"
   ]
  },
  {
   "cell_type": "code",
   "execution_count": null,
   "id": "b43180ec-791f-4e48-b0fc-e9ffd000c593",
   "metadata": {},
   "outputs": [],
   "source": []
  }
 ],
 "metadata": {
  "kernelspec": {
   "display_name": "Python",
   "language": "python",
   "name": "conda-env-python-py"
  },
  "language_info": {
   "codemirror_mode": {
    "name": "ipython",
    "version": 3
   },
   "file_extension": ".py",
   "mimetype": "text/x-python",
   "name": "python",
   "nbconvert_exporter": "python",
   "pygments_lexer": "ipython3",
   "version": "3.7.12"
  }
 },
 "nbformat": 4,
 "nbformat_minor": 5
}
